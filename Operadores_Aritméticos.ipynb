{
  "nbformat": 4,
  "nbformat_minor": 0,
  "metadata": {
    "colab": {
      "provenance": [],
      "authorship_tag": "ABX9TyPaW8HzasKRAz1QLzD4zlAV",
      "include_colab_link": true
    },
    "kernelspec": {
      "name": "python3",
      "display_name": "Python 3"
    },
    "language_info": {
      "name": "python"
    }
  },
  "cells": [
    {
      "cell_type": "markdown",
      "metadata": {
        "id": "view-in-github",
        "colab_type": "text"
      },
      "source": [
        "<a href=\"https://colab.research.google.com/github/DavPess/Python3/blob/main/Operadores_Aritm%C3%A9ticos.ipynb\" target=\"_parent\"><img src=\"https://colab.research.google.com/assets/colab-badge.svg\" alt=\"Open In Colab\"/></a>"
      ]
    },
    {
      "cell_type": "code",
      "execution_count": null,
      "metadata": {
        "id": "b_CLCnLxpI1S"
      },
      "outputs": [],
      "source": [
        "#aprendendo operadores aritméticos\n",
        "a = 5 + (3*2)\n",
        "b = (3*5)+(4**2)\n",
        "c = 19/2\n",
        "d = pow(4,3)\n",
        "e = \"oi\" + \"olá\"\n",
        "f = \"'='\"*20\n",
        "#g = input(\"Digite seu nome: \")\n",
        "h = int(input(\"Digite um valor: \"))\n",
        "i = int(input(\"Digite outro valor: \"))\n",
        "j = h+i\n",
        "print(\"Resultado é: {}\".format(j))"
      ]
    },
    {
      "cell_type": "code",
      "source": [
        "n1 = int(input(\"Digite um valor: \"))\n",
        "n2 = int(input(\"Digite outro valor: \"))\n",
        "s = n1 + n2\n",
        "m = n1 * n2\n",
        "d = n1 / n2\n",
        "di = n1 // n2\n",
        "e = n1 ** n2\n",
        "print(\"A soma é: {} \\no produto é: {} \\na divisão é: {}\". format(s, m, d), end=' >>> ')\n",
        "print(\"A divisão inteira é {} \\n resultado elevado é: {}\".format(di, e))"
      ],
      "metadata": {
        "id": "EYcSRw7jpdTy"
      },
      "execution_count": null,
      "outputs": []
    },
    {
      "cell_type": "code",
      "source": [
        "n1 = int(input(\"Digite um valor: \"))\n",
        "n2 = int(input(\"Digite outro valor: \"))\n",
        "n3 = int(input(\"Digite outro valor: \"))\n",
        "cal_1 = n1 + (n2*n3)\n",
        "cal_2 = n1 * (n2**n3)\n",
        "cal_3 = n2 / n1 + n3\n",
        "print(\"\\nResultado 1°: {} \\nResultado 2°: {} \\nResultado 3°: {}\". format(cal_1, cal_2, cal_3))"
      ],
      "metadata": {
        "id": "VknjP_lXpgga"
      },
      "execution_count": null,
      "outputs": []
    }
  ]
}