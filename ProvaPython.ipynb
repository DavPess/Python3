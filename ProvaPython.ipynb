{
  "nbformat": 4,
  "nbformat_minor": 0,
  "metadata": {
    "colab": {
      "provenance": [],
      "authorship_tag": "ABX9TyNIKo0W3OQotgeA2tllmnrO",
      "include_colab_link": true
    },
    "kernelspec": {
      "name": "python3",
      "display_name": "Python 3"
    },
    "language_info": {
      "name": "python"
    }
  },
  "cells": [
    {
      "cell_type": "markdown",
      "metadata": {
        "id": "view-in-github",
        "colab_type": "text"
      },
      "source": [
        "<a href=\"https://colab.research.google.com/github/DavPess/Python3/blob/main/ProvaPython.ipynb\" target=\"_parent\"><img src=\"https://colab.research.google.com/assets/colab-badge.svg\" alt=\"Open In Colab\"/></a>"
      ]
    },
    {
      "cell_type": "code",
      "execution_count": null,
      "metadata": {
        "id": "LmbIGR-xfZwE"
      },
      "outputs": [],
      "source": [
        "#Prova Python CURSO EM VIDEO\n",
        "\n",
        "cal1 = float(input(\"Digite um valor: \"))\n",
        "cal2 = float(input(\"Digite outro numero: \"))\n",
        "resultado1 = cal1 // 2 \n",
        "resultado2 = cal2 % 2\n",
        "print(\"O valor da primeira conta é de {}\".format(resultado1))\n",
        "print(\"O valor da segunda conta é de {}\".format(resultado2))"
      ]
    },
    {
      "cell_type": "code",
      "source": [
        "prova = str(\"prova de python\")\n",
        "replace = prova.replace(\" \", \"\")\n",
        "print(len(prova))"
      ],
      "metadata": {
        "id": "opO51U1qgkaJ"
      },
      "execution_count": null,
      "outputs": []
    },
    {
      "cell_type": "code",
      "source": [
        "x = str('curso de python no cursoemvideo')\n",
        "curso = x.split()\n",
        "print(x[:5])"
      ],
      "metadata": {
        "colab": {
          "base_uri": "https://localhost:8080/"
        },
        "id": "p8rtyzCghl7B",
        "outputId": "1afda841-0e52-4e7e-bd9e-c09f0c7f2000"
      },
      "execution_count": 15,
      "outputs": [
        {
          "output_type": "stream",
          "name": "stdout",
          "text": [
            "curso\n"
          ]
        }
      ]
    },
    {
      "cell_type": "code",
      "source": [
        "\n",
        "ex = (3*5) + (4**2)\n",
        "\n",
        "print(ex)"
      ],
      "metadata": {
        "colab": {
          "base_uri": "https://localhost:8080/"
        },
        "id": "5tVw4EPwiDbv",
        "outputId": "5f177401-e64d-4a2a-9528-1b76d5cb0d24"
      },
      "execution_count": 9,
      "outputs": [
        {
          "output_type": "stream",
          "name": "stdout",
          "text": [
            "31\n"
          ]
        }
      ]
    }
  ]
}