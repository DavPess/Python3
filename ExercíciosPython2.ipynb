{
  "nbformat": 4,
  "nbformat_minor": 0,
  "metadata": {
    "colab": {
      "provenance": [],
      "authorship_tag": "ABX9TyN2kPNGRFi0mF8wa6bSw4Ia",
      "include_colab_link": true
    },
    "kernelspec": {
      "name": "python3",
      "display_name": "Python 3"
    },
    "language_info": {
      "name": "python"
    }
  },
  "cells": [
    {
      "cell_type": "markdown",
      "metadata": {
        "id": "view-in-github",
        "colab_type": "text"
      },
      "source": [
        "<a href=\"https://colab.research.google.com/github/DavPess/Python3/blob/main/Exerc%C3%ADciosPython2.ipynb\" target=\"_parent\"><img src=\"https://colab.research.google.com/assets/colab-badge.svg\" alt=\"Open In Colab\"/></a>"
      ]
    },
    {
      "cell_type": "code",
      "execution_count": null,
      "metadata": {
        "id": "F0rfQF_ZdVD5"
      },
      "outputs": [],
      "source": [
        "#014 Conversor de temperatura C° para F\n",
        "c = float(input(\"Informe a temperatura em C°: \"))\n",
        "f = (c*1.8) + 32\n",
        "print(\"O resultado é: {}° F\".format(f))"
      ]
    },
    {
      "cell_type": "code",
      "source": [
        "#Continuação: Conversor de temperatura F° para C°\n",
        "f = float(input(\"Digite a temperatura atual: \"))\n",
        "c = (t-32)/1.8\n",
        "print(\"O resultado em C° é: {:.2f}\".format(c))\n"
      ],
      "metadata": {
        "id": "liw3orLrfn4R"
      },
      "execution_count": null,
      "outputs": []
    },
    {
      "cell_type": "code",
      "source": [
        "#015 Escreva um programa que pergunte a quantidade de Km percorridos por um carro alugado e a quantidade de duas pelos quais ele foi alugado.\n",
        "# Calcule o preço a pagar, sabendo que o carro custa R$ 60 por dia e R$ 0,15 por km rodado.\n",
        "d = int(input(\"Quantos Km rodados?: \"))\n",
        "a = d * 60\n",
        "km = k * 0.15\n",
        "t = a + km\n",
        "print(\"O valor a ser pago por dia utilizado {} e de km {} rodados é de: R$ {:.2f} \".format(d, k, t))"
      ],
      "metadata": {
        "id": "PJck87fjiZ3h"
      },
      "execution_count": null,
      "outputs": []
    }
  ]
}