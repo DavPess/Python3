{
  "nbformat": 4,
  "nbformat_minor": 0,
  "metadata": {
    "colab": {
      "provenance": [],
      "authorship_tag": "ABX9TyMSY7wrVUumm+fHzr71dL5B",
      "include_colab_link": true
    },
    "kernelspec": {
      "name": "python3",
      "display_name": "Python 3"
    },
    "language_info": {
      "name": "python"
    }
  },
  "cells": [
    {
      "cell_type": "markdown",
      "metadata": {
        "id": "view-in-github",
        "colab_type": "text"
      },
      "source": [
        "<a href=\"https://colab.research.google.com/github/DavPess/Python3/blob/main/Exerc%C3%ADciosPython.ipynb\" target=\"_parent\"><img src=\"https://colab.research.google.com/assets/colab-badge.svg\" alt=\"Open In Colab\"/></a>"
      ]
    },
    {
      "cell_type": "code",
      "execution_count": null,
      "metadata": {
        "id": "UFCqU8JOrAk0"
      },
      "outputs": [],
      "source": [
        "#Faça um programa que leia um número inteiro e mostre na tela o seu sucessor e seu antecessor.\n",
        "n1 = int(input(\"Digite um valor: \"))\n",
        "n2 = n1 + 1\n",
        "n3 = n1 - 1\n",
        "print(\"\\nSucessor é: {} \\nAntecessor é: {}\".format( n2, n3))"
      ]
    },
    {
      "cell_type": "code",
      "source": [
        "#Crie um algoritmo que leia um número e mostre seu dobro, triplo e raiz quadrada\n",
        "n1 = float(input(\"Digite um valor: \"))\n",
        "n2 = n1 * 2\n",
        "n3 = n1 * 3\n",
        "n4 = n1 ** (1/2)\n",
        "print(\"Dobro: {:.0f} \\nTriplo: {:.0f} \\nRaiz Quadrada: {:.2f}\".format(n2, n3, n4))"
      ],
      "metadata": {
        "id": "eLK-1rAgrE3_"
      },
      "execution_count": null,
      "outputs": []
    },
    {
      "cell_type": "code",
      "source": [
        "#Desenvolva um programa que leia duas notas de um aluno, calcule e mostre a sua média \n",
        "n1 = float(input(\"Nota 1: \"))\n",
        "n2 = float(input(\"Nota 2: \"))\n",
        "n3 = (n1 + n2)/2\n",
        "print(\"A média é: {}\".format(n3))"
      ],
      "metadata": {
        "id": "W6MtaSa-rHS2"
      },
      "execution_count": null,
      "outputs": []
    },
    {
      "cell_type": "code",
      "source": [
        "#Escreva um programa que leia um valor em metros e o exiba convertido em centimetros e milimetros\n",
        "n1 = float(input(\"Digite a metragem: \"))\n",
        "n2 = n1 * 100\n",
        "n3 = n1 * 1000\n",
        "print(\"O resultado em centimetros é: {:.0f} \\n Resultado em milimetros é: {:.0f}\".format(n2, n3))"
      ],
      "metadata": {
        "id": "jlTZzkbUrJB_"
      },
      "execution_count": null,
      "outputs": []
    },
    {
      "cell_type": "code",
      "source": [
        "#Faça um programa que leia um nimero inteiro qualquer e mostre na tela a sua tabuada\n",
        "n1 = int(input(\"Digite um valor: \"))\n",
        "n2 = n1 * 1\n",
        "n3 = n1 * 2\n",
        "n4 = n1 * 3\n",
        "n5 = n1 * 4\n",
        "n6 = n1 * 5\n",
        "n7 = n1 * 6\n",
        "n8 = n1 * 7\n",
        "n9 = n1 * 8\n",
        "n10 = n1 * 9\n",
        "n11 = n1 * 10\n",
        "print(\"Resutaldo é:  1 x {} \\n 2 x {} \\n 3 x {} \\n 4 x {} \\n 5 x {} \\n 6 x {} \\n 7 x {} \\n 8 x {} \\n 9 x {} \\n10 x {}\".format(n2, n3, n4, n5, n6, n7, n8, n9, n10, n11))"
      ],
      "metadata": {
        "id": "P_AMGLVNrK2G"
      },
      "execution_count": null,
      "outputs": []
    },
    {
      "cell_type": "code",
      "source": [
        "#Crie um programa que leia quanto dinheiro uma pessoa tem na carteira e mostre quantos dólares ela pode comprar\n",
        "carteira = float(input(\"Qual valor que tem na carteira? \"))\n",
        "n1 = carteira / 5.28\n",
        "print(\"Valor em dólares: {:.2f}\".format(n1))"
      ],
      "metadata": {
        "id": "GGJqcDeyrObQ"
      },
      "execution_count": null,
      "outputs": []
    },
    {
      "cell_type": "code",
      "source": [
        "#Faça um programa que leia a largura e a altura de uma parede em metros, calcule a sua área e a quantidade de tinta necessária para pintá-la,\n",
        "#sabendo que cada litro de tinha, pinta uma área de 2m2\n",
        "altura = float(input(\"Digite a Altura: \"))\n",
        "largura = float(input(\"Digite a Largura \"))\n",
        "area = altura * largura\n",
        "tinta = area / 2\n",
        "print(\"Área: {} \\nQuantidade em litros: {:.2f}\".format(area, tinta))"
      ],
      "metadata": {
        "id": "CGKfcUMIrP_g"
      },
      "execution_count": null,
      "outputs": []
    },
    {
      "cell_type": "code",
      "source": [
        "#Faça um algoritmo que leia o preço de um produto e mostre seu novo preço, com 5% de desconto\n",
        "preco = float(input(\"Digite o preço \"))\n",
        "desconto = preco * (5/100)\n",
        "valor_final = preco - desconto\n",
        "print(\"Desconto: {} \\nPreço final: {}\".format(desconto, valor_final))"
      ],
      "metadata": {
        "id": "f-qXRJqDrSLv"
      },
      "execution_count": null,
      "outputs": []
    },
    {
      "cell_type": "code",
      "source": [
        "#Faça um algoritmo que leia o salário de um funcionário e mostre seu novo salário, com 15% de aumento]\n",
        "salario = float(input(\"Digite salário atual: \"))\n",
        "aumento = salario * (15/100)\n",
        "salario_final = salario + aumento\n",
        "print(\"Salário sem aumento {} \\nO salário com 15% de aumento é: {:.2f}\".format(salario, salario_final))"
      ],
      "metadata": {
        "id": "RbKPLsEsrTxP"
      },
      "execution_count": null,
      "outputs": []
    },
    {
      "cell_type": "code",
      "source": [
        "#while = enquanto\n",
        "#i é o contador. ele é o valor que dá início ao laço\n",
        "#enquanto i for menor do que 11, o resultado recebe o número digitado vezes o número que o contador está\n",
        "numero = int(input(\"Digite um número \"))\n",
        "i = 1\n",
        "\n",
        "while i<11:\n",
        "  resultado = numero * i\n",
        "  print(numero,\" X \",i,\" = \",resultado);\n",
        "  i= i+1"
      ],
      "metadata": {
        "id": "6bgmcbb57jIk"
      },
      "execution_count": null,
      "outputs": []
    }
  ]
}