{
  "nbformat": 4,
  "nbformat_minor": 0,
  "metadata": {
    "colab": {
      "provenance": [],
      "authorship_tag": "ABX9TyPrJXOoI6kHYJQdu70O6Ha4",
      "include_colab_link": true
    },
    "kernelspec": {
      "name": "python3",
      "display_name": "Python 3"
    },
    "language_info": {
      "name": "python"
    }
  },
  "cells": [
    {
      "cell_type": "markdown",
      "metadata": {
        "id": "view-in-github",
        "colab_type": "text"
      },
      "source": [
        "<a href=\"https://colab.research.google.com/github/DavPess/Python3/blob/main/Exerc%C3%ADciosPython.ipynb\" target=\"_parent\"><img src=\"https://colab.research.google.com/assets/colab-badge.svg\" alt=\"Open In Colab\"/></a>"
      ]
    },
    {
      "cell_type": "code",
      "execution_count": null,
      "metadata": {
        "id": "UFCqU8JOrAk0"
      },
      "outputs": [],
      "source": [
        "#005 Faça um programa que leia um número inteiro e mostre na tela o seu sucessor e seu antecessor.\n",
        "n1 = int(input(\"Digite um valor: \"))\n",
        "n2 = n1 + 1\n",
        "n3 = n1 - 1\n",
        "print(\"\\nSucessor é: {} \\nAntecessor é: {}\".format( n2, n3))"
      ]
    },
    {
      "cell_type": "code",
      "source": [
        "#006 Crie um algoritmo que leia um número e mostre seu dobro, triplo e raiz quadrada\n",
        "n1 = float(input(\"Digite um valor: \"))\n",
        "d = n1 * 2\n",
        "t = n1 * 3\n",
        "r = n1 ** (1/2)\n",
        "print(\"Dobro: {:.0f} \\nTriplo: {:.0f} \\nRaiz Quadrada: {:.2f}\".format(d, t, r))\n",
        "#Pode usar o print, para realizar o calculo, ao invés de criar váriavel. .format(n1,(n1*2), n1, (n1*3), n1,(n1**(1/2))"
      ],
      "metadata": {
        "id": "eLK-1rAgrE3_"
      },
      "execution_count": null,
      "outputs": []
    },
    {
      "cell_type": "code",
      "source": [
        "#007 Desenvolva um programa que leia duas notas de um aluno, calcule e mostre a sua média \n",
        "n1 = float(input(\"Nota 1: \"))\n",
        "n2 = float(input(\"Nota 2: \"))\n",
        "m = (n1 + n2)/2\n",
        "print(\"A média é: {:.1f}\".format(m))"
      ],
      "metadata": {
        "id": "W6MtaSa-rHS2"
      },
      "execution_count": null,
      "outputs": []
    },
    {
      "cell_type": "code",
      "source": [
        "#008 Escreva um programa que leia um valor em metros e o exiba convertido em centimetros e milimetros\n",
        "medida = float(input(\"Digite a metragem: \"))\n",
        "cm = medida* 100\n",
        "mm = medida * 1000\n",
        "km = medida / 1000\n",
        "hm = medida / 100\n",
        "dam = medida / 10\n",
        "dm =  medida * 10\n",
        "print(\"O resultado em centimetros é: {:.0f} \\nResultado em milimetros é: {:.0f} \\nResultado em KM: {} \\nResultado em Hectômetro: {} \\nResultado em Decâmetro: {} \\nResultado em Decímetro: {}\" \n",
        ".format(cm, mm, km, hm, dam, dm))\n"
      ],
      "metadata": {
        "id": "jlTZzkbUrJB_"
      },
      "execution_count": null,
      "outputs": []
    },
    {
      "cell_type": "code",
      "source": [
        "#009 Faça um programa que leia um nimero inteiro qualquer e mostre na tela a sua tabuada\n",
        "n1 = int(input(\"Digite um valor: \"))\n",
        "n2 = n1 * 1\n",
        "n3 = n1 * 2\n",
        "n4 = n1 * 3\n",
        "n5 = n1 * 4\n",
        "n6 = n1 * 5\n",
        "n7 = n1 * 6\n",
        "n8 = n1 * 7\n",
        "n9 = n1 * 8\n",
        "n10 = n1 * 9\n",
        "n11 = n1 * 10\n",
        "print(\"-\" * 12)\n",
        "print(\"Resutaldo é:\\n6 x 1 = {:2} \\n6 x 2 = {:2} \\n6 x 3 = {:2} \\n6 x 4 = {:2} \\n6 x 5 = {:2} \\n6 x 6 = {:2} \\n6 x 7 = {:2} \\n6 x 8 = {:2} \\n6 x 9 = {:2} \\n6 x 10 = {:1}\".format(n2, n3, n4, n5, n6, n7, n8, n9, n10, n11))\n",
        "print(\"-\" * 12)"
      ],
      "metadata": {
        "id": "P_AMGLVNrK2G"
      },
      "execution_count": null,
      "outputs": []
    },
    {
      "cell_type": "code",
      "source": [
        "#010 Crie um programa que leia quanto dinheiro uma pessoa tem na carteira e mostre quantos dólares ela pode comprar\n",
        "carteira = float(input(\"Qual valor que tem na carteira? \"))\n",
        "n1 = carteira / 5.28\n",
        "print(\"Valor em dólares: U${:.2f}\".format(n1))"
      ],
      "metadata": {
        "id": "GGJqcDeyrObQ"
      },
      "execution_count": null,
      "outputs": []
    },
    {
      "cell_type": "code",
      "source": [
        "#011 Faça um programa que leia a largura e a altura de uma parede em metros, calcule a sua área e a quantidade de tinta necessária para pintá-la,\n",
        "#sabendo que cada litro de tinha, pinta uma área de 2m2\n",
        "largura = float(input(\"Digite a Largura \"))\n",
        "altura = float(input(\"Digite a Altura: \"))\n",
        "area = altura * largura\n",
        "tinta = area / 2\n",
        "print(\"Área: {}m² \\nQuantidade em litros: {:.2f}\".format(area, tinta))"
      ],
      "metadata": {
        "id": "CGKfcUMIrP_g"
      },
      "execution_count": null,
      "outputs": []
    },
    {
      "cell_type": "code",
      "source": [
        "#012 Faça um algoritmo que leia o preço de um produto e mostre seu novo preço, com 5% de desconto\n",
        "preco = float(input(\"Digite o preço \"))\n",
        "desconto = preco * (5/100)\n",
        "valor_final = preco - desconto\n",
        "print(\"Desconto: R${:.2f} \\nPreço final: R${:.2f}\".format(desconto, valor_final))"
      ],
      "metadata": {
        "id": "f-qXRJqDrSLv",
        "colab": {
          "base_uri": "https://localhost:8080/"
        },
        "outputId": "076406dc-d8a1-4543-fac9-eac80408854f"
      },
      "execution_count": 32,
      "outputs": [
        {
          "output_type": "stream",
          "name": "stdout",
          "text": [
            "Digite o preço 546\n",
            "Desconto: R$27.30 \n",
            "Preço final: R$518.70\n"
          ]
        }
      ]
    },
    {
      "cell_type": "code",
      "source": [
        "#013 Faça um algoritmo que leia o salário de um funcionário e mostre seu novo salário, com 15% de aumento]\n",
        "salario = float(input(\"Digite salário atual: \"))\n",
        "aumento = salario * (15/100)\n",
        "salario_final = salario + aumento\n",
        "print(\"Salário sem aumento {} \\nO salário com 15% de aumento é: {:.2f}\".format(salario, salario_final))"
      ],
      "metadata": {
        "id": "RbKPLsEsrTxP"
      },
      "execution_count": null,
      "outputs": []
    },
    {
      "cell_type": "code",
      "source": [
        "#while = enquanto\n",
        "#i é o contador. ele é o valor que dá início ao laço\n",
        "#enquanto i for menor do que 11, o resultado recebe o número digitado vezes o número que o contador está\n",
        "numero = int(input(\"Digite um número \"))\n",
        "i = 1\n",
        "\n",
        "while i<11:\n",
        "  resultado = numero * i\n",
        "  print(numero,\" X \",i,\" = \",resultado);\n",
        "  i= i+1"
      ],
      "metadata": {
        "id": "6bgmcbb57jIk"
      },
      "execution_count": null,
      "outputs": []
    }
  ]
}