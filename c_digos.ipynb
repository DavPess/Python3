{
  "nbformat": 4,
  "nbformat_minor": 0,
  "metadata": {
    "colab": {
      "provenance": [],
      "authorship_tag": "ABX9TyNapIx41M1CLWq+mf+TU2gV",
      "include_colab_link": true
    },
    "kernelspec": {
      "name": "python3",
      "display_name": "Python 3"
    },
    "language_info": {
      "name": "python"
    }
  },
  "cells": [
    {
      "cell_type": "markdown",
      "metadata": {
        "id": "view-in-github",
        "colab_type": "text"
      },
      "source": [
        "<a href=\"https://colab.research.google.com/github/DavPess/Python3/blob/main/c_digos.ipynb\" target=\"_parent\"><img src=\"https://colab.research.google.com/assets/colab-badge.svg\" alt=\"Open In Colab\"/></a>"
      ]
    },
    {
      "cell_type": "code",
      "execution_count": null,
      "metadata": {
        "colab": {
          "base_uri": "https://localhost:8080/"
        },
        "id": "IbbawqPgcYz4",
        "outputId": "42bbe272-67a5-4b80-e307-8fb673de530c"
      },
      "outputs": [
        {
          "output_type": "stream",
          "name": "stdout",
          "text": [
            "Digite um numero 60\n",
            "Digite um numero 60\n",
            "Resultado é: 120\n"
          ]
        }
      ],
      "source": [
        "conta_1 = int(input(\"Digite um numero \"))\n",
        "conta_2 = int(input(\"Digite um numero \"))\n",
        "conta_3 = conta_1 + conta_2\n",
        "print(\"Resultado é: {}\".format(conta_3))\n",
        "\n",
        "\n",
        "\n"
      ]
    },
    {
      "cell_type": "code",
      "source": [
        "nome = input(\"Digite seu nome: \")\n",
        "print(\"Olá {}, Prazer em te conhecer!\".format(nome))"
      ],
      "metadata": {
        "colab": {
          "base_uri": "https://localhost:8080/"
        },
        "id": "mBfbF_jVfzpG",
        "outputId": "6392c0bf-4d8c-4924-a149-3419b2182c8a"
      },
      "execution_count": null,
      "outputs": [
        {
          "output_type": "stream",
          "name": "stdout",
          "text": [
            "Digite seu nome: David\n",
            "Olá David, Prazer em te conhecer!\n"
          ]
        }
      ]
    },
    {
      "cell_type": "code",
      "source": [
        "nome = input(\"Qual seu nome? \")\n",
        "idade = input(\"Qual sua idade? \")\n",
        "peso = input(\"Qual seu peso? \")\n",
        "print(\"Seus dados são: \\nnome: {} \\nidade: {} \\nPeso: {}\".format(nome, idade, peso))\n",
        "print(\"Obrigado {} pelas informações, Bem Vindo!\".format(nome))"
      ],
      "metadata": {
        "colab": {
          "base_uri": "https://localhost:8080/"
        },
        "id": "_zT19ge7h0zo",
        "outputId": "2216af57-0afc-4689-99ac-9a43ae651a64"
      },
      "execution_count": null,
      "outputs": [
        {
          "output_type": "stream",
          "name": "stdout",
          "text": [
            "Qual seu nome? David\n",
            "Qual sua idade? 25\n",
            "Qual seu peso? 63\n",
            "Seus dados são: \n",
            "nome: David \n",
            "idade: 25 \n",
            "Peso: 63\n",
            "Obrigado David pelas informações, Bem Vindo!\n"
          ]
        }
      ]
    },
    {
      "cell_type": "code",
      "source": [
        "banana = float(input(\"Valor da banana: \"))\n",
        "arroz = float(input(\"Valor do arroz: \"))\n",
        "feijao = float(input(\"Valor do feijão: \"))\n",
        "total = banana + arroz + feijao\n",
        "print(\"Total: {}\".format(total))"
      ],
      "metadata": {
        "colab": {
          "base_uri": "https://localhost:8080/"
        },
        "id": "Lbh-wnFIkQk-",
        "outputId": "2dc7f86d-98d3-4b57-ea79-d9af4bb3b33b"
      },
      "execution_count": null,
      "outputs": [
        {
          "output_type": "stream",
          "name": "stdout",
          "text": [
            "Valor da banana: 25.20\n",
            "Valor do arroz: 10.80\n",
            "Valor do feijão: 30.35\n",
            "Total: 66.35\n"
          ]
        }
      ]
    },
    {
      "cell_type": "code",
      "source": [
        "banana_1 = 25\n",
        "arroz_1 = 25\n",
        "feijao_1 = 25\n",
        "\n",
        "\n",
        "banana = float(input(\"Quantidade de banana: \"))\n",
        "arroz = float(input(\"Quantidade de arroz: \"))\n",
        "feijao = float(input(\"Quantidade de feijão: \"))\n",
        "totalbanana = banana * banana_1\n",
        "totalarroz = arroz * arroz_1\n",
        "totalfeijao = feijao * feijao_1\n",
        "totalgeral = totalbanana + totalarroz + totalfeijao\n",
        "\n",
        "print(\"Quantidade: \\nTotal Banana {} \\nTotal Arroz {} \\nTotal Feijão {} \\nTotal Geral {}1\".format(totalbanana, totalarroz, totalfeijao, totalgeral))"
      ],
      "metadata": {
        "colab": {
          "base_uri": "https://localhost:8080/"
        },
        "id": "eoHPMVgqlpVJ",
        "outputId": "810890c5-3ae3-40f6-a1f0-37f2f024761e"
      },
      "execution_count": null,
      "outputs": [
        {
          "output_type": "stream",
          "name": "stdout",
          "text": [
            "Quantidade de banana: 5\n",
            "Quantidade de arroz: 2\n",
            "Quantidade de feijão: 3\n",
            "Quantidade: \n",
            "Total Banana 125.0 \n",
            "Total Arroz 50.0 \n",
            "Total Feijão 75.0 \n",
            "Total Geral 250.01\n"
          ]
        }
      ]
    },
    {
      "cell_type": "code",
      "source": [
        "dia = int(input(\"Digite o dia do seu nascimento: \"))\n",
        "mes = int(input(\"Digite o mês do seu nascimento: \"))\n",
        "ano = int(input(\"Digite o ano do seu nascimento: \"))\n",
        "idade = 2023 - ano\n",
        "print(\"Sua idade é: {}, e sua data de nascimento é: {}/{}/{}\".format(idade, dia, mes, ano))"
      ],
      "metadata": {
        "colab": {
          "base_uri": "https://localhost:8080/"
        },
        "id": "UQhZwjEppTGd",
        "outputId": "99fcfbc5-a0c5-4d17-ed98-aeaef7335c21"
      },
      "execution_count": null,
      "outputs": [
        {
          "output_type": "stream",
          "name": "stdout",
          "text": [
            "Digite o dia do seu nascimento: 16\n",
            "Digite o mês do seu nascimento: 11\n",
            "Digite o ano do seu nascimento: 2001\n",
            "Sua idade é: 22, e sua data de nascimento é: 16/11/2001\n"
          ]
        }
      ]
    },
    {
      "cell_type": "code",
      "source": [
        "A = float(input(\"Digite um numero: \"))\n",
        "B = float(input(\"Digite um numero: \"))\n",
        "#C=  A + B\n",
        "print(\"O resultado é: {}\".format(A + B))"
      ],
      "metadata": {
        "colab": {
          "base_uri": "https://localhost:8080/"
        },
        "id": "nYT06M4j-4mj",
        "outputId": "b84e0a5f-cb0c-4895-9987-5104749b15f3"
      },
      "execution_count": null,
      "outputs": [
        {
          "output_type": "stream",
          "name": "stdout",
          "text": [
            "Digite um numero: 10\n",
            "Digite um numero: 10\n",
            "O resultado é: 20.0\n"
          ]
        }
      ]
    },
    {
      "cell_type": "code",
      "source": [
        "#calculo de média faculdade\n",
        "n1 = float(input(\"Digite n1: \"))\n",
        "n2 = float(input(\"Digite n2: \"))\n",
        "n3 = (n1 + n2)/2\n",
        "print(\"Média5: {}\".format(n3))"
      ],
      "metadata": {
        "id": "ti7PgbGj_V9B",
        "outputId": "2049ed20-106f-497a-9b8f-f11f17cbbc01",
        "colab": {
          "base_uri": "https://localhost:8080/"
        }
      },
      "execution_count": null,
      "outputs": [
        {
          "output_type": "stream",
          "name": "stdout",
          "text": [
            "Digite n1: 12\n",
            "Digite n2: 2\n",
            "Média5: 7.0\n"
          ]
        }
      ]
    },
    {
      "cell_type": "code",
      "source": [
        "#se não declarar que o numero é inteiro ou decimal, não ocorre a soma, o + junta os dois valores.\n",
        "\n",
        "#int = numero inteiro\n",
        "#float = numero real (que contém decimal)\n",
        "#bool = booleanos, verdadeiro(True) ou falso(False)\n",
        "#str = strings (caracteres dentro \"\")\n",
        "\n"
      ],
      "metadata": {
        "id": "PiZUnI5xUsDG",
        "outputId": "9e973ec6-d511-4a5b-9480-4847b67792c4",
        "colab": {
          "base_uri": "https://localhost:8080/"
        }
      },
      "execution_count": null,
      "outputs": [
        {
          "output_type": "stream",
          "name": "stdout",
          "text": [
            "Digite n1 2\n",
            "\n",
            "Digite n2 2\n",
            "Média: 22\n"
          ]
        }
      ]
    },
    {
      "cell_type": "code",
      "source": [
        "n1 = input(\"Digite n1 \")\n",
        "n2=  input(\"\\nDigite n2 \")\n",
        "\n",
        "n3 = n1 + n2\n",
        "print(\"Média: {}\".format(n3))"
      ],
      "metadata": {
        "id": "tUdMcRBMYQmH"
      },
      "execution_count": null,
      "outputs": []
    },
    {
      "cell_type": "code",
      "source": [
        "n1 = int(input(\"Digite um valor \"))\n",
        "n2 = int(input(\"Digite um valor \"))\n",
        "s = n1 + n2\n",
        "#print(\"A soma entre\", n1, \"e\" ,n2, \"vale: \", s)\n",
        "\n",
        "#ao invés de colocar tudo entre \"\", abre chaves {} e coloca o .format e coloca os valores dentro do .format\n",
        "print(\"A soma entre, {} e {} vale {}\".format(n1, n2, s))"
      ],
      "metadata": {
        "id": "NKLpYXFnZ0l8",
        "outputId": "0e1d8629-acce-434a-d7dc-0f7a6a792a07",
        "colab": {
          "base_uri": "https://localhost:8080/"
        }
      },
      "execution_count": null,
      "outputs": [
        {
          "output_type": "stream",
          "name": "stdout",
          "text": [
            "Digite um valor 5\n",
            "Digite um valor 2\n",
            "A soma entre, 5 e 2 vale 7\n"
          ]
        }
      ]
    },
    {
      "cell_type": "code",
      "source": [
        "n = input(\"Digite alguma coisa: \")\n",
        "#print(type(n))\n",
        "#tipo = type(n)\n",
        "#print(\"valor: \"+n+\"\\nTipo: \"+tipo)\n",
        "#print(n.isalnum)\n",
        "print(\"O valor é: {} o tipo é {}\".format(n, type(n)))"
      ],
      "metadata": {
        "id": "IZ-YYXCxeAh8",
        "outputId": "4957be42-e6eb-41ba-cc27-36ea8379ee6e",
        "colab": {
          "base_uri": "https://localhost:8080/"
        }
      },
      "execution_count": null,
      "outputs": [
        {
          "output_type": "stream",
          "name": "stdout",
          "text": [
            "Digite alguma coisa: 12\n",
            "O valor é: 12 o tipo é <class 'str'>\n"
          ]
        }
      ]
    },
    {
      "cell_type": "code",
      "source": [
        "n1 = input(\"Digite um valor: \")\n",
        "\n",
        "if n1.isnumeric():\n",
        "\n",
        "  tipo = \"int\"\n",
        "elif n1.isdecimal():\n",
        "  tipo = \"float\"\n",
        "elif n1.isalpha():\n",
        "  tipo = \"str\"\n",
        "#elif(n1.isascii):\n",
        "  #tipo = \"bool\"\n",
        "print(\"o valor é: {} \\n tipo: {}\".format(n1,tipo))"
      ],
      "metadata": {
        "id": "TWbgTvAyhLT0",
        "outputId": "7075d981-86e1-479d-c437-0c5b761b9b82",
        "colab": {
          "base_uri": "https://localhost:8080/"
        }
      },
      "execution_count": null,
      "outputs": [
        {
          "output_type": "stream",
          "name": "stdout",
          "text": [
            "Digite um valor: oi\n",
            "o valor é: oi \n",
            " tipo: str\n"
          ]
        }
      ]
    },
    {
      "cell_type": "code",
      "source": [
        "n1 = input(\"Digite um valor: \")\n",
        "print(\"O tipo primitivo desse valor é: \", type(n1))\n",
        "print(\"Só tem espaços? \", n1.isspace())\n",
        "print(\"É um número? \", n1.isnumeric())\n",
        "print(\"É alfabético? \", n1.isalpha())\n",
        "print(\"É alfanumérico? \", n1.isalnum())\n",
        "print(\"Está em maiúscula? \",  n1.isupper())\n",
        "print(\"Está em minúsculo?\", n1.islower())\n",
        "print(\"Está capitalizada? \", n1.istitle())"
      ],
      "metadata": {
        "id": "fvDNbQjAjtb5",
        "outputId": "874e0ba4-fa35-4733-b6df-02d187a01dd8",
        "colab": {
          "base_uri": "https://localhost:8080/"
        }
      },
      "execution_count": 8,
      "outputs": [
        {
          "output_type": "stream",
          "name": "stdout",
          "text": [
            "Digite um valor: Python\n",
            "O tipo primitivo desse valor é:  <class 'str'>\n",
            "Só tem espaços?  False\n",
            "É um número?  False\n",
            "É alfabético?  True\n",
            "É alfanumérico?  True\n",
            "Está em maiúscula?  False\n",
            "Está em minúsculo? False\n",
            "Está capitalizada?  True\n"
          ]
        }
      ]
    },
    {
      "cell_type": "code",
      "source": [
        "n1 = input(\"Digite um valor: \")\n",
        "print(\"O tipo primitivo é: \", type(n1),\n",
        "      \"\\nTem espaços? \", n1.isspace(), \n",
        "      \"\\nÉ um número: \", n1.isnumeric(), \n",
        "      \"\\nÉ alfabético? \", n1.isalpha(), \n",
        "      \"\\nÉ alfanumérico? \", n1.isalnum(),\n",
        "      \"\\nEstá em maiúscula? \", n1.isupper(),\n",
        "      \"\\nEstá em minúscula? \", n1.islower(),\n",
        "      \"\\nEstá capitaliza? \", n1.istitle())"
      ],
      "metadata": {
        "id": "BQl3MpnLSiGa",
        "outputId": "8de48dc2-3744-46a2-efbb-bd778cc20009",
        "colab": {
          "base_uri": "https://localhost:8080/"
        }
      },
      "execution_count": 15,
      "outputs": [
        {
          "output_type": "stream",
          "name": "stdout",
          "text": [
            "Digite um valor: Abra123\n",
            "O tipo primitivo é:  <class 'str'> \n",
            "Tem espaços?  False \n",
            "É um número:  False \n",
            "É alfabético?  False \n",
            "É alfanumérico?  True \n",
            "Está em maiúscula?  False \n",
            "Está em minúscula?  False \n",
            "Está capitaliza?  True\n"
          ]
        }
      ]
    },
    {
      "cell_type": "code",
      "source": [
        "#não precisa colocar \"virgula\", quando utilizar o .format\n",
        "n1 = input(\"Digite algo: \")\n",
        "print(\"O tipo primitivo é: {}\"\n",
        "      \"\\nTem espaços? {} \"\n",
        "      \"\\nÉ alfabético? {}\".format(type(n1), n1.isspace(), n1.isalpha()))\n",
        "      \n"
      ],
      "metadata": {
        "id": "o_OI1X9pWr1m",
        "outputId": "9547a600-e076-421f-c295-6a952383c073",
        "colab": {
          "base_uri": "https://localhost:8080/"
        }
      },
      "execution_count": 17,
      "outputs": [
        {
          "output_type": "stream",
          "name": "stdout",
          "text": [
            "Digite algo: David\n",
            "O tipo primitivo é: <class 'str'>\n",
            "Tem espaços? False \n",
            "É alfabético? True\n"
          ]
        }
      ]
    },
    {
      "cell_type": "code",
      "source": [],
      "metadata": {
        "id": "8EdJJETsZ_-A"
      },
      "execution_count": null,
      "outputs": []
    },
    {
      "cell_type": "code",
      "source": [],
      "metadata": {
        "id": "Gmsbd5pJaAtd"
      },
      "execution_count": null,
      "outputs": []
    }
  ]
}